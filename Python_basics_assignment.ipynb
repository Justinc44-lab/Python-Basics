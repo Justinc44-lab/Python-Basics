{
  "nbformat": 4,
  "nbformat_minor": 0,
  "metadata": {
    "colab": {
      "provenance": []
    },
    "kernelspec": {
      "name": "python3",
      "display_name": "Python 3"
    },
    "language_info": {
      "name": "python"
    }
  },
  "cells": [
    {
      "cell_type": "code",
      "execution_count": null,
      "metadata": {
        "id": "Upu4Dxncsyh2"
      },
      "outputs": [],
      "source": [
        "# 1 What is Python, and why is it popular ?\n",
        "''' Python is a programming language that is easy to understand and write, making it a popular choice among developers and programmers.\n",
        "It is compatible with various programming paradigms, such as procedural, object-oriented, and functional programming.\n",
        "Python has a large and active community of developers, an extensive standard library, and third-party packages for various domains.\n",
        "'''"
      ]
    },
    {
      "cell_type": "code",
      "source": [
        "# 2 What is an interpreter in Python ?\n",
        "'''A Python interpreter is a program that reads and executes Python code directly, without compiling it first.\n",
        " This makes Python an interpreted language, which is known for its ease of use, platform independence, and dynamic typing.\n",
        "  Essentially, it's a translator that allows your computer to understand Python code.\n"
      ],
      "metadata": {
        "id": "0Ejrbuyctka5"
      },
      "execution_count": null,
      "outputs": []
    },
    {
      "cell_type": "code",
      "source": [
        "# 3. What are pre-defined keywords in Python ?\n",
        "''' Keywords are reserved words in Python that have special meanings and cannot be used as identifiers (variable names, function names, etc.).\n",
        "Examples of keywords include if, else, while, for, def, class, import, try, except, return, True, False, None, etc.\n",
        "Keywords are case-sensitive and cannot be redefined or overridden within a Python program. '''"
      ],
      "metadata": {
        "id": "TfGDGgKmuP7L"
      },
      "execution_count": null,
      "outputs": []
    },
    {
      "cell_type": "code",
      "source": [
        " # 4 Can keywords be used as variable names ?\n",
        " ''' No they cannot be used as variable names'''"
      ],
      "metadata": {
        "id": "gBX7qgc5utkc"
      },
      "execution_count": null,
      "outputs": []
    },
    {
      "cell_type": "code",
      "source": [
        "# 5. What is mutability in Python ?\n",
        "''' In python objects that can be changed(modified) is called mutability.\n",
        "    Mutable objects, such as lists and dictionaries, can be modified after creation. '''"
      ],
      "metadata": {
        "id": "gnt3jlJsvIH6"
      },
      "execution_count": null,
      "outputs": []
    },
    {
      "cell_type": "code",
      "source": [
        "# 6 Why are lists mutable, but tuples are immutable ?\n",
        "''' Lists are mutable because they are designed to be changed.\n",
        " You can add, remove, or modify elements within a list after it's created.\n",
        " This flexibility makes lists suitable for tasks where data needs to be updated dynamically.\n",
        "\n",
        "Tuples, on the other hand, are immutable. Once a tuple is created, its elements cannot be changed.\n",
        "This immutability ensures that the data within a tuple remains constant throughout its lifespan, providing data integrity.\n",
        "Tuples are often used for representing fixed collections of items, like coordinates or database records.'''"
      ],
      "metadata": {
        "id": "5l75qhP-v1Tq"
      },
      "execution_count": null,
      "outputs": []
    },
    {
      "cell_type": "code",
      "source": [
        "# 7 What is the difference between “==” and “is” operators in Python ?\n",
        "''' The 'is' operator compares the memory addresses of two objects to determine if they are the same object.\n",
        "    It checks for object identity rather than value equality.\n",
        "    The '==' operator compares the values of two objects to determine if they are equal.\n",
        "    It doesn't care if they are the same object in memory, only if their values are the same. '''"
      ],
      "metadata": {
        "id": "9vYVTNRBw2yk"
      },
      "execution_count": null,
      "outputs": []
    },
    {
      "cell_type": "code",
      "source": [
        "# 8 What are logical operators in Python ?\n",
        " ''' Logical operators(and, or, not) combine expressions\n",
        "     to create compound expressions that evaluate to True or False."
      ],
      "metadata": {
        "id": "vIKzOc0Iw7UW"
      },
      "execution_count": null,
      "outputs": []
    },
    {
      "cell_type": "code",
      "source": [
        "# 9 What is type casting in Python\n",
        "''' Type casting, also referred to as type conversion, is the process of changing one data type to another in Python.\n",
        "    Python provides built-in functions for type casting, such as int(), float(), str(), list(), tuple(), dict(), etc.\n",
        "    Type casting is often necessary for performing arithmetic operations, data manipulation, and input/output operations in Python programs. '''"
      ],
      "metadata": {
        "id": "rpzM554Sw9jc"
      },
      "execution_count": null,
      "outputs": []
    },
    {
      "cell_type": "code",
      "source": [
        "#10 What is the difference between implicit and explicit type casting ?\n",
        "''' Implicit type casting: Done automatically by the compiler/interpreter when a value is copied to a compatible type without data loss.\n",
        "     Explicit type casting: Performed by the programmer using casting functions or operators to convert a value to a specific type, which may result in data loss or truncation.'''"
      ],
      "metadata": {
        "id": "fk8c85V3w-lU"
      },
      "execution_count": null,
      "outputs": []
    },
    {
      "cell_type": "code",
      "source": [
        "#11 What is the purpose of conditional statements in Python ?\n",
        "''' Conditionals in Python are used to execute code based on the evaluation of one or more conditions.\n",
        "    Python supports conditional statements such as if, elif (else if), and else to control the flow of execution.'''"
      ],
      "metadata": {
        "id": "4eOiM1T3w_b5"
      },
      "execution_count": null,
      "outputs": []
    },
    {
      "cell_type": "code",
      "source": [
        "#12  How does the elif statement work ?\n",
        "''' elif (short for \"else if\") allows you to check multiple conditions sequentially.\n",
        "If the initial 'if' condition is False, the elif condition is evaluated.\n",
        "If the 'elif' condition is True, its code block is executed, and the rest are skipped.\n",
        "If all 'if' and 'elif' conditions are False, the else block (if present) is executed. '''"
      ],
      "metadata": {
        "id": "-cABAoh9xAf3"
      },
      "execution_count": null,
      "outputs": []
    },
    {
      "cell_type": "code",
      "source": [
        "#13 What is the difference between for and while loops ?\n",
        "''' “for” loops are used for iterating over a sequence of elements,\n",
        "     while “while” loops are used for executing code until a specified condition becomes False. '''"
      ],
      "metadata": {
        "id": "mtMNW14ixBe5"
      },
      "execution_count": null,
      "outputs": []
    },
    {
      "cell_type": "code",
      "source": [
        "# 14  Describe a scenario where a while loop is more suitable than a for loop.\n",
        "''' A while loop is more suitable than a for loop when the number of iterations is not known in advance and depends on a condition that is evaluated during each iteration.'''"
      ],
      "metadata": {
        "id": "vzNimDsExCSc"
      },
      "execution_count": null,
      "outputs": []
    },
    {
      "cell_type": "code",
      "source": [
        "# PRACTICAL QTS"
      ],
      "metadata": {
        "id": "Nb7GKfOb2q30"
      },
      "execution_count": null,
      "outputs": []
    },
    {
      "cell_type": "code",
      "source": [
        "#1 Write a Python program to print \"Hello, World!\"\n",
        "print(\"Hello, World!\")"
      ],
      "metadata": {
        "colab": {
          "base_uri": "https://localhost:8080/"
        },
        "id": "Ysn3q8Ap2-aY",
        "outputId": "2c043b77-aee6-4f72-fb74-f997062562a3"
      },
      "execution_count": null,
      "outputs": [
        {
          "output_type": "stream",
          "name": "stdout",
          "text": [
            "Hello, World!\n"
          ]
        }
      ]
    },
    {
      "cell_type": "code",
      "source": [
        "#2.  Write a Python program that displays your name and age\n",
        "name = input(\"Enter your name: \")\n",
        "age = input(\"Enter your age: \")\n",
        "print(\"Name:\", name)\n",
        "print(\"Age:\", age)"
      ],
      "metadata": {
        "colab": {
          "base_uri": "https://localhost:8080/"
        },
        "id": "wlcll8F43KfP",
        "outputId": "98501a63-febf-41cd-e547-6b974aafec35"
      },
      "execution_count": null,
      "outputs": [
        {
          "output_type": "stream",
          "name": "stdout",
          "text": [
            "Enter your name: Justin\n",
            "Enter your age: 23\n",
            "Name: Justin\n",
            "Age: 23\n"
          ]
        }
      ]
    },
    {
      "cell_type": "code",
      "source": [
        "#3 Write code to print all the pre-defined keywords in Python using the keyword library\n",
        "help('keywords')"
      ],
      "metadata": {
        "colab": {
          "base_uri": "https://localhost:8080/"
        },
        "id": "DawHfGl536ek",
        "outputId": "4142b05c-1fc0-46de-a881-ea49fc2001d9"
      },
      "execution_count": null,
      "outputs": [
        {
          "output_type": "stream",
          "name": "stdout",
          "text": [
            "\n",
            "Here is a list of the Python keywords.  Enter any keyword to get more help.\n",
            "\n",
            "False               class               from                or\n",
            "None                continue            global              pass\n",
            "True                def                 if                  raise\n",
            "and                 del                 import              return\n",
            "as                  elif                in                  try\n",
            "assert              else                is                  while\n",
            "async               except              lambda              with\n",
            "await               finally             nonlocal            yield\n",
            "break               for                 not                 \n",
            "\n"
          ]
        }
      ]
    },
    {
      "cell_type": "code",
      "source": [
        "# 4 Write a program that checks if a given word is a Python keyword\n",
        "import keyword\n",
        "word = input(\"Enter a word: \")\n",
        "if keyword.iskeyword(word):\n",
        "    print(f\"{word} is a Python keyword.\")\n",
        "else:\n",
        "    print(f\"{word} is not a Python keyword.\")\n"
      ],
      "metadata": {
        "colab": {
          "base_uri": "https://localhost:8080/"
        },
        "id": "Kl391CGJ4wBC",
        "outputId": "468d1407-fd18-4d4e-faa5-092dbb663fcb"
      },
      "execution_count": null,
      "outputs": [
        {
          "output_type": "stream",
          "name": "stdout",
          "text": [
            "Enter a word: True\n",
            "True is a Python keyword.\n"
          ]
        }
      ]
    },
    {
      "cell_type": "code",
      "source": [
        "# 5 Create a list and tuple in Python, and demonstrate how attempting to change an element works differently\n",
        "# for each.\n",
        "my_list = [1,2,3,4]\n",
        "my_tuple = (1,2,3,4)\n",
        "type(my_list)"
      ],
      "metadata": {
        "colab": {
          "base_uri": "https://localhost:8080/"
        },
        "id": "XFKcdGLP5Lss",
        "outputId": "94751126-31f3-4642-ecc5-980af5999f9f"
      },
      "execution_count": null,
      "outputs": [
        {
          "output_type": "execute_result",
          "data": {
            "text/plain": [
              "list"
            ]
          },
          "metadata": {},
          "execution_count": 87
        }
      ]
    },
    {
      "cell_type": "code",
      "source": [
        "type(my_tuple)"
      ],
      "metadata": {
        "colab": {
          "base_uri": "https://localhost:8080/"
        },
        "id": "1YKpBjf28hsk",
        "outputId": "ebcbc58e-d01a-42c9-8266-71ca0b6fab47"
      },
      "execution_count": null,
      "outputs": [
        {
          "output_type": "execute_result",
          "data": {
            "text/plain": [
              "tuple"
            ]
          },
          "metadata": {},
          "execution_count": 33
        }
      ]
    },
    {
      "cell_type": "code",
      "source": [
        "my_list[0] = 100\n",
        "my_list # over here it has changed as list is mutable"
      ],
      "metadata": {
        "colab": {
          "base_uri": "https://localhost:8080/"
        },
        "id": "5hoowfyi8tsm",
        "outputId": "e41b9627-4919-4ff2-e51c-c97fa8261b7c"
      },
      "execution_count": null,
      "outputs": [
        {
          "output_type": "execute_result",
          "data": {
            "text/plain": [
              "[100, 2, 3, 4]"
            ]
          },
          "metadata": {},
          "execution_count": 34
        }
      ]
    },
    {
      "cell_type": "code",
      "source": [
        "my_tuple[0] = 100\n",
        "my_tuple # over here it has not changed as tuble is immutable"
      ],
      "metadata": {
        "colab": {
          "base_uri": "https://localhost:8080/",
          "height": 158
        },
        "id": "C3TbyrgX8wL1",
        "outputId": "6dc7c4c1-5a3f-44c0-8766-a577ca465dbf"
      },
      "execution_count": null,
      "outputs": [
        {
          "output_type": "error",
          "ename": "TypeError",
          "evalue": "'tuple' object does not support item assignment",
          "traceback": [
            "\u001b[0;31m---------------------------------------------------------------------------\u001b[0m",
            "\u001b[0;31mTypeError\u001b[0m                                 Traceback (most recent call last)",
            "\u001b[0;32m<ipython-input-35-a8a9829cdcc1>\u001b[0m in \u001b[0;36m<cell line: 1>\u001b[0;34m()\u001b[0m\n\u001b[0;32m----> 1\u001b[0;31m \u001b[0mmy_tuple\u001b[0m\u001b[0;34m[\u001b[0m\u001b[0;36m0\u001b[0m\u001b[0;34m]\u001b[0m \u001b[0;34m=\u001b[0m \u001b[0;36m100\u001b[0m\u001b[0;34m\u001b[0m\u001b[0;34m\u001b[0m\u001b[0m\n\u001b[0m\u001b[1;32m      2\u001b[0m \u001b[0mmy_tuple\u001b[0m\u001b[0;34m\u001b[0m\u001b[0;34m\u001b[0m\u001b[0m\n",
            "\u001b[0;31mTypeError\u001b[0m: 'tuple' object does not support item assignment"
          ]
        }
      ]
    },
    {
      "cell_type": "code",
      "source": [
        "# 6 Write a function to demonstrate the behavior of mutable and immutable arguments.\n",
        "my_list = [1,2,3]\n",
        "a = \"Justin\"\n",
        "my_list.append(4)\n",
        "print(my_list) # so over here we a can add a element for it as lists a mutable.\n",
        "a.append(\"Bieber\")\n",
        "print(a)    # over here we have got an error as strins are immutable"
      ],
      "metadata": {
        "colab": {
          "base_uri": "https://localhost:8080/",
          "height": 211
        },
        "id": "BBV2mY91817m",
        "outputId": "f3fb61d4-7fb1-430f-925b-3b6ae1c884d4"
      },
      "execution_count": null,
      "outputs": [
        {
          "output_type": "stream",
          "name": "stdout",
          "text": [
            "[1, 2, 3, 4]\n"
          ]
        },
        {
          "output_type": "error",
          "ename": "AttributeError",
          "evalue": "'str' object has no attribute 'append'",
          "traceback": [
            "\u001b[0;31m---------------------------------------------------------------------------\u001b[0m",
            "\u001b[0;31mAttributeError\u001b[0m                            Traceback (most recent call last)",
            "\u001b[0;32m<ipython-input-39-158deaef98d3>\u001b[0m in \u001b[0;36m<cell line: 6>\u001b[0;34m()\u001b[0m\n\u001b[1;32m      4\u001b[0m \u001b[0mmy_list\u001b[0m\u001b[0;34m.\u001b[0m\u001b[0mappend\u001b[0m\u001b[0;34m(\u001b[0m\u001b[0;36m4\u001b[0m\u001b[0;34m)\u001b[0m\u001b[0;34m\u001b[0m\u001b[0;34m\u001b[0m\u001b[0m\n\u001b[1;32m      5\u001b[0m \u001b[0mprint\u001b[0m\u001b[0;34m(\u001b[0m\u001b[0mmy_list\u001b[0m\u001b[0;34m)\u001b[0m\u001b[0;34m\u001b[0m\u001b[0;34m\u001b[0m\u001b[0m\n\u001b[0;32m----> 6\u001b[0;31m \u001b[0ma\u001b[0m\u001b[0;34m.\u001b[0m\u001b[0mappend\u001b[0m\u001b[0;34m(\u001b[0m\u001b[0;34m\"Bieber\"\u001b[0m\u001b[0;34m)\u001b[0m\u001b[0;34m\u001b[0m\u001b[0;34m\u001b[0m\u001b[0m\n\u001b[0m\u001b[1;32m      7\u001b[0m \u001b[0mprint\u001b[0m\u001b[0;34m(\u001b[0m\u001b[0ma\u001b[0m\u001b[0;34m)\u001b[0m\u001b[0;34m\u001b[0m\u001b[0;34m\u001b[0m\u001b[0m\n",
            "\u001b[0;31mAttributeError\u001b[0m: 'str' object has no attribute 'append'"
          ]
        }
      ]
    },
    {
      "cell_type": "code",
      "source": [
        "#7 Write a function to demonstrate the behavior of mutable and immutable arguments.\n",
        "my_list = [1,2,3]\n",
        "a = \"Justin\"\n",
        "my_list.append(4)\n",
        "print(my_list) # so over here we a can add a element for it as lists a mutable.\n",
        "a.append(\"Bieber\")\n",
        "print(a)    # over here we have got an error as strins are immutable"
      ],
      "metadata": {
        "colab": {
          "base_uri": "https://localhost:8080/",
          "height": 211
        },
        "id": "ki24M2oCAbfK",
        "outputId": "7b14f1ec-fae5-4065-823a-1960ca55e19f"
      },
      "execution_count": null,
      "outputs": [
        {
          "output_type": "stream",
          "name": "stdout",
          "text": [
            "[1, 2, 3, 4]\n"
          ]
        },
        {
          "output_type": "error",
          "ename": "AttributeError",
          "evalue": "'str' object has no attribute 'append'",
          "traceback": [
            "\u001b[0;31m---------------------------------------------------------------------------\u001b[0m",
            "\u001b[0;31mAttributeError\u001b[0m                            Traceback (most recent call last)",
            "\u001b[0;32m<ipython-input-40-25b6bff65a99>\u001b[0m in \u001b[0;36m<cell line: 6>\u001b[0;34m()\u001b[0m\n\u001b[1;32m      4\u001b[0m \u001b[0mmy_list\u001b[0m\u001b[0;34m.\u001b[0m\u001b[0mappend\u001b[0m\u001b[0;34m(\u001b[0m\u001b[0;36m4\u001b[0m\u001b[0;34m)\u001b[0m\u001b[0;34m\u001b[0m\u001b[0;34m\u001b[0m\u001b[0m\n\u001b[1;32m      5\u001b[0m \u001b[0mprint\u001b[0m\u001b[0;34m(\u001b[0m\u001b[0mmy_list\u001b[0m\u001b[0;34m)\u001b[0m \u001b[0;31m# so over here we a can add a element for it as lists a mutable.\u001b[0m\u001b[0;34m\u001b[0m\u001b[0;34m\u001b[0m\u001b[0m\n\u001b[0;32m----> 6\u001b[0;31m \u001b[0ma\u001b[0m\u001b[0;34m.\u001b[0m\u001b[0mappend\u001b[0m\u001b[0;34m(\u001b[0m\u001b[0;34m\"Bieber\"\u001b[0m\u001b[0;34m)\u001b[0m\u001b[0;34m\u001b[0m\u001b[0;34m\u001b[0m\u001b[0m\n\u001b[0m\u001b[1;32m      7\u001b[0m \u001b[0mprint\u001b[0m\u001b[0;34m(\u001b[0m\u001b[0ma\u001b[0m\u001b[0;34m)\u001b[0m    \u001b[0;31m# over here we have got an error as strins are immutable\u001b[0m\u001b[0;34m\u001b[0m\u001b[0;34m\u001b[0m\u001b[0m\n",
            "\u001b[0;31mAttributeError\u001b[0m: 'str' object has no attribute 'append'"
          ]
        }
      ]
    },
    {
      "source": [
        "# 8 Write a program to demonstrate the use of logical operators.\n",
        "# Define two boolean variables\n",
        "is_raining = True\n",
        "is_cold = False\n",
        "\n",
        "# Using 'and' operator (True if both conditions are True)\n",
        "if is_raining and is_cold:\n",
        "    print(\"It's raining and cold! Wear a raincoat and a warm jacket.\")\n",
        "else:\n",
        "    print(\"It's not both raining and cold.\")\n",
        "\n",
        "# Using 'or' operator (True if at least one condition is True)\n",
        "if is_raining or is_cold:\n",
        "    print(\"It's either raining or cold, or both. Be prepared!\")\n",
        "else:\n",
        "    print(\"It's neither raining nor cold. Enjoy the weather!\")\n",
        "\n",
        "# Using 'not' operator (inverts the truth value)\n",
        "if not is_raining:\n",
        "    print(\"It's not raining.\")\n",
        "else:\n",
        "    print(\"It's raining.\")"
      ],
      "cell_type": "code",
      "metadata": {
        "colab": {
          "base_uri": "https://localhost:8080/"
        },
        "id": "eiBLBvgFFp2u",
        "outputId": "2fab9c45-ce58-484d-8b97-68f1cd379c98"
      },
      "execution_count": null,
      "outputs": [
        {
          "output_type": "stream",
          "name": "stdout",
          "text": [
            "It's not both raining and cold.\n",
            "It's either raining or cold, or both. Be prepared!\n",
            "It's raining.\n"
          ]
        }
      ]
    },
    {
      "cell_type": "code",
      "source": [
        "# 9 Write a Python program to convert user input from string to integer, float, and boolean types.\n",
        "a = \"30\"\n",
        "type(a)"
      ],
      "metadata": {
        "colab": {
          "base_uri": "https://localhost:8080/"
        },
        "id": "yjsMcHDnFrCV",
        "outputId": "b6d9ddb3-7854-4777-d816-565111ef4245"
      },
      "execution_count": null,
      "outputs": [
        {
          "output_type": "execute_result",
          "data": {
            "text/plain": [
              "str"
            ]
          },
          "metadata": {},
          "execution_count": 42
        }
      ]
    },
    {
      "cell_type": "code",
      "source": [
        "int(a)"
      ],
      "metadata": {
        "colab": {
          "base_uri": "https://localhost:8080/"
        },
        "id": "TrKmLLRvGkMQ",
        "outputId": "fca4f22f-90dd-401d-dfc2-afbc7ff7ed74"
      },
      "execution_count": null,
      "outputs": [
        {
          "output_type": "execute_result",
          "data": {
            "text/plain": [
              "30"
            ]
          },
          "metadata": {},
          "execution_count": 47
        }
      ]
    },
    {
      "cell_type": "code",
      "source": [
        "type(int(a))"
      ],
      "metadata": {
        "colab": {
          "base_uri": "https://localhost:8080/"
        },
        "id": "82bV38CfGohg",
        "outputId": "c23d5edb-22e5-4fae-b94d-0a3258160770"
      },
      "execution_count": null,
      "outputs": [
        {
          "output_type": "execute_result",
          "data": {
            "text/plain": [
              "int"
            ]
          },
          "metadata": {},
          "execution_count": 48
        }
      ]
    },
    {
      "cell_type": "code",
      "source": [
        "float(a)"
      ],
      "metadata": {
        "colab": {
          "base_uri": "https://localhost:8080/"
        },
        "id": "QNNtIveVGtKe",
        "outputId": "a2fef8c8-0c79-4dfb-f3a6-ecd91939e948"
      },
      "execution_count": null,
      "outputs": [
        {
          "output_type": "execute_result",
          "data": {
            "text/plain": [
              "30.0"
            ]
          },
          "metadata": {},
          "execution_count": 49
        }
      ]
    },
    {
      "cell_type": "code",
      "source": [
        "type(float(a))"
      ],
      "metadata": {
        "colab": {
          "base_uri": "https://localhost:8080/"
        },
        "id": "i4tk3VKpHK-X",
        "outputId": "66cc4c92-c642-49a5-e0ca-c810d6fffc46"
      },
      "execution_count": null,
      "outputs": [
        {
          "output_type": "execute_result",
          "data": {
            "text/plain": [
              "float"
            ]
          },
          "metadata": {},
          "execution_count": 50
        }
      ]
    },
    {
      "cell_type": "code",
      "source": [
        "bool(a)"
      ],
      "metadata": {
        "colab": {
          "base_uri": "https://localhost:8080/"
        },
        "id": "-0iCfNnlHNeR",
        "outputId": "60d01471-c3a9-490e-eabd-0a976a74f0ac"
      },
      "execution_count": null,
      "outputs": [
        {
          "output_type": "execute_result",
          "data": {
            "text/plain": [
              "True"
            ]
          },
          "metadata": {},
          "execution_count": 51
        }
      ]
    },
    {
      "cell_type": "code",
      "source": [
        "type(bool(a))"
      ],
      "metadata": {
        "colab": {
          "base_uri": "https://localhost:8080/"
        },
        "id": "Yrdgt7ZTHUWu",
        "outputId": "3e25e424-1d07-4e5b-dd82-57eed9793461"
      },
      "execution_count": null,
      "outputs": [
        {
          "output_type": "execute_result",
          "data": {
            "text/plain": [
              "bool"
            ]
          },
          "metadata": {},
          "execution_count": 52
        }
      ]
    },
    {
      "cell_type": "code",
      "source": [
        "# 10 Write code to demonstrate type casting with list elements\n",
        "my_list = [\"123\", \"45.67\", \"True\", \"False\", \"Hello\"]\n",
        "my_list\n"
      ],
      "metadata": {
        "colab": {
          "base_uri": "https://localhost:8080/"
        },
        "id": "m5AzRyDXIP_Q",
        "outputId": "1b36b5d2-5cf7-4589-af7c-d7e8452b6352"
      },
      "execution_count": null,
      "outputs": [
        {
          "output_type": "execute_result",
          "data": {
            "text/plain": [
              "['123', '45.67', 'True', 'False', 'Hello']"
            ]
          },
          "metadata": {},
          "execution_count": 67
        }
      ]
    },
    {
      "cell_type": "code",
      "source": [
        "int(my_list[0])"
      ],
      "metadata": {
        "colab": {
          "base_uri": "https://localhost:8080/"
        },
        "id": "ZHSQt6twIims",
        "outputId": "d5bc3619-c9d9-4308-830e-c38354b67e71"
      },
      "execution_count": null,
      "outputs": [
        {
          "output_type": "execute_result",
          "data": {
            "text/plain": [
              "123"
            ]
          },
          "metadata": {},
          "execution_count": 68
        }
      ]
    },
    {
      "cell_type": "code",
      "source": [
        "type(int(my_list[0]))"
      ],
      "metadata": {
        "colab": {
          "base_uri": "https://localhost:8080/"
        },
        "id": "iQZU3IYgIoWo",
        "outputId": "54e612fc-ecf4-430f-8b57-3104233f25b6"
      },
      "execution_count": null,
      "outputs": [
        {
          "output_type": "execute_result",
          "data": {
            "text/plain": [
              "int"
            ]
          },
          "metadata": {},
          "execution_count": 60
        }
      ]
    },
    {
      "cell_type": "code",
      "source": [
        "float(my_list[1])"
      ],
      "metadata": {
        "colab": {
          "base_uri": "https://localhost:8080/"
        },
        "id": "OveirMTKJPpr",
        "outputId": "06bceeb1-f01d-41af-d123-2b117a18c350"
      },
      "execution_count": null,
      "outputs": [
        {
          "output_type": "execute_result",
          "data": {
            "text/plain": [
              "45.67"
            ]
          },
          "metadata": {},
          "execution_count": 61
        }
      ]
    },
    {
      "cell_type": "code",
      "source": [
        "type(float(my_list[1]))"
      ],
      "metadata": {
        "colab": {
          "base_uri": "https://localhost:8080/"
        },
        "id": "pc4NRnppJXoW",
        "outputId": "9ce90d65-ded2-4f93-ebea-fe253b982458"
      },
      "execution_count": null,
      "outputs": [
        {
          "output_type": "execute_result",
          "data": {
            "text/plain": [
              "float"
            ]
          },
          "metadata": {},
          "execution_count": 63
        }
      ]
    },
    {
      "cell_type": "code",
      "source": [
        "bool(my_list[2])"
      ],
      "metadata": {
        "colab": {
          "base_uri": "https://localhost:8080/"
        },
        "id": "s2ZgUkz8JbZE",
        "outputId": "8cf0a8d7-e47b-435f-e66c-5f130a52a038"
      },
      "execution_count": null,
      "outputs": [
        {
          "output_type": "execute_result",
          "data": {
            "text/plain": [
              "True"
            ]
          },
          "metadata": {},
          "execution_count": 64
        }
      ]
    },
    {
      "cell_type": "code",
      "source": [
        "type(bool(my_list[2]))"
      ],
      "metadata": {
        "colab": {
          "base_uri": "https://localhost:8080/"
        },
        "id": "p4Dj1DlzJtVE",
        "outputId": "c2c15537-2e81-4b65-f87b-579f32d78ce9"
      },
      "execution_count": null,
      "outputs": [
        {
          "output_type": "execute_result",
          "data": {
            "text/plain": [
              "bool"
            ]
          },
          "metadata": {},
          "execution_count": 65
        }
      ]
    },
    {
      "cell_type": "code",
      "source": [
        "bool(my_list[3])"
      ],
      "metadata": {
        "colab": {
          "base_uri": "https://localhost:8080/"
        },
        "id": "ytjBvqq0JvuZ",
        "outputId": "c3b104c8-41bc-4b36-ce7f-94c2fe8a345f"
      },
      "execution_count": null,
      "outputs": [
        {
          "output_type": "execute_result",
          "data": {
            "text/plain": [
              "True"
            ]
          },
          "metadata": {},
          "execution_count": 69
        }
      ]
    },
    {
      "cell_type": "code",
      "source": [
        "type(bool(my_list[3]))"
      ],
      "metadata": {
        "colab": {
          "base_uri": "https://localhost:8080/"
        },
        "id": "O4Au9y5LKZTO",
        "outputId": "8727ec8c-690c-4913-b6c6-a27eb57f37d1"
      },
      "execution_count": null,
      "outputs": [
        {
          "output_type": "execute_result",
          "data": {
            "text/plain": [
              "bool"
            ]
          },
          "metadata": {},
          "execution_count": 70
        }
      ]
    },
    {
      "cell_type": "code",
      "source": [
        "str(my_list[4])"
      ],
      "metadata": {
        "colab": {
          "base_uri": "https://localhost:8080/",
          "height": 35
        },
        "id": "avGfFdRfKbtN",
        "outputId": "b255de13-1bd8-4f90-e742-a4f4032bb1be"
      },
      "execution_count": null,
      "outputs": [
        {
          "output_type": "execute_result",
          "data": {
            "text/plain": [
              "'Hello'"
            ],
            "application/vnd.google.colaboratory.intrinsic+json": {
              "type": "string"
            }
          },
          "metadata": {},
          "execution_count": 71
        }
      ]
    },
    {
      "cell_type": "code",
      "source": [
        "type(str(my_list[4]))"
      ],
      "metadata": {
        "colab": {
          "base_uri": "https://localhost:8080/"
        },
        "id": "zGQlu4IOKeHt",
        "outputId": "c2c49269-2725-4860-ef5c-3746c3ea7ac8"
      },
      "execution_count": null,
      "outputs": [
        {
          "output_type": "execute_result",
          "data": {
            "text/plain": [
              "str"
            ]
          },
          "metadata": {},
          "execution_count": 74
        }
      ]
    },
    {
      "cell_type": "code",
      "source": [
        "# 11 Write a program that checks if a number is positive, negative, or zero\n",
        "number = int(input(\"enter a number\"))\n",
        "if number > 0 :\n",
        "  print(\"number is positive\")\n",
        "elif number < 0 :\n",
        "  print(\"number is negative\")\n",
        "else :\n",
        "  print(\"number is zero\")"
      ],
      "metadata": {
        "colab": {
          "base_uri": "https://localhost:8080/"
        },
        "id": "aggazTxLMSvc",
        "outputId": "f401fce8-d7af-4d7d-c844-639f85108e7c"
      },
      "execution_count": null,
      "outputs": [
        {
          "output_type": "stream",
          "name": "stdout",
          "text": [
            "enter a number  1\n",
            "number is positive\n"
          ]
        }
      ]
    },
    {
      "cell_type": "code",
      "source": [
        "# 12  Write a for loop to print numbers from 1 to 10\n",
        "for i in range(1,11):\n",
        "  print(i)"
      ],
      "metadata": {
        "colab": {
          "base_uri": "https://localhost:8080/"
        },
        "id": "IazlEWUrMohA",
        "outputId": "78603466-d768-4d93-a9e8-b92d40a89e21"
      },
      "execution_count": null,
      "outputs": [
        {
          "output_type": "stream",
          "name": "stdout",
          "text": [
            "1\n",
            "2\n",
            "3\n",
            "4\n",
            "5\n",
            "6\n",
            "7\n",
            "8\n",
            "9\n",
            "10\n"
          ]
        }
      ]
    },
    {
      "cell_type": "code",
      "source": [
        "# 13 Write a Python program to find the sum of all even numbers between 1 and 50.\n",
        "sum = 0\n",
        "for i in range(1,51):\n",
        "  if i % 2 == 0:\n",
        "    sum = sum + i\n",
        "print(sum)"
      ],
      "metadata": {
        "colab": {
          "base_uri": "https://localhost:8080/"
        },
        "id": "hpl9Q-JSNEVa",
        "outputId": "d530f0c4-1f83-46b1-dab4-d050664c866d"
      },
      "execution_count": null,
      "outputs": [
        {
          "output_type": "stream",
          "name": "stdout",
          "text": [
            "650\n"
          ]
        }
      ]
    },
    {
      "cell_type": "code",
      "source": [
        "# 14 Write a program to reverse a string using a while loop\n",
        "string = input(\"enter a string\")\n",
        "reverse = \"\"\n",
        "length = len(string)\n",
        "while length > 0:\n",
        "  reverse = reverse + string[length - 1]\n",
        "  length = length - 1\n",
        "print(reverse)"
      ],
      "metadata": {
        "colab": {
          "base_uri": "https://localhost:8080/"
        },
        "id": "mMULGmocNi68",
        "outputId": "74996638-c8c1-4b26-ce1e-dd2676044133"
      },
      "execution_count": null,
      "outputs": [
        {
          "output_type": "stream",
          "name": "stdout",
          "text": [
            "enter a string Justin\n",
            "nitsuJ \n"
          ]
        }
      ]
    },
    {
      "cell_type": "code",
      "source": [
        "# 15 Write a Python program to calculate the factorial of a number provided by the user using a while loop.\n",
        "number = int(input(\"enter a number\"))\n",
        "factorial = 1\n",
        "while number > 0:\n",
        "  factorial = factorial * number\n",
        "  number = number - 1\n",
        "print(factorial)"
      ],
      "metadata": {
        "colab": {
          "base_uri": "https://localhost:8080/"
        },
        "id": "uJ5Mq34tOg3K",
        "outputId": "1f2a4a5b-6b77-427c-ca7c-31ab26f77eb3"
      },
      "execution_count": null,
      "outputs": [
        {
          "output_type": "stream",
          "name": "stdout",
          "text": [
            "enter a number 5\n",
            "120\n"
          ]
        }
      ]
    },
    {
      "cell_type": "code",
      "source": [],
      "metadata": {
        "id": "yYAmS6mCQS89"
      },
      "execution_count": null,
      "outputs": []
    }
  ]
}